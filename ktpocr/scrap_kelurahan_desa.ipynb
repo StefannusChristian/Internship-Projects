{
 "cells": [
  {
   "cell_type": "code",
   "execution_count": 29,
   "metadata": {},
   "outputs": [
    {
     "name": "stdout",
     "output_type": "stream",
     "text": [
      "<!DOCTYPE html>\n",
      "<html lang=\"en-US\">\n",
      "<head>\n",
      "    <title>Just a moment...</title>\n",
      "    <meta http-equiv=\"Content-Type\" content=\"text/html; charset=UTF-8\">\n",
      "    <meta http-equiv=\"X-UA-Compatible\" content=\"IE=Edge\">\n",
      "    <meta name=\"robots\" content=\"noindex,nofollow\">\n",
      "    <meta name=\"viewport\" content=\"width=device-width,initial-scale=1\">\n",
      "    <link href=\"/cdn-cgi/styles/challenges.css\" rel=\"stylesheet\">\n",
      "    \n",
      "\n",
      "</head>\n",
      "<body class=\"no-js\">\n",
      "    <div class=\"main-wrapper\" role=\"main\">\n",
      "    <div class=\"main-content\">\n",
      "        <noscript>\n",
      "            <div id=\"challenge-error-title\">\n",
      "                <div class=\"h2\">\n",
      "                    <span class=\"icon-wrapper\">\n",
      "                        <div class=\"heading-icon warning-icon\"></div>\n",
      "                    </span>\n",
      "                    <span id=\"challenge-error-text\">\n",
      "                        Enable JavaScript and cookies to continue\n",
      "                    </span>\n",
      "                </div>\n",
      "            </div>\n",
      "        </noscript>\n",
      "        <form id=\"challenge-form\" action=\"/_kodepos.php?_i=desa-kodepos&amp;daerah=&amp;jobs=&amp;perhal=1000&amp;urut=1&amp;asc=000101&amp;sby=000000&amp;no1=2&amp;no2=4000&amp;kk=0&amp;__cf_chl_f_tk=_7WceR2tPBIg.eJpt.Uy5tXJmsPTmv3EDlnwFentzGo-1690189278-0-gaNycGzNC1A\" method=\"POST\" enctype=\"application/x-www-form-urlencoded\">\n",
      "            <input type=\"hidden\" name=\"md\" value=\"6V23znenuvTqNSvabWs8ln0HO24fqDCGuPPRU7w3tZE-1690189278-0-AUyZBkw2E31zeJGxpvj8zpTrinPwOsozNtwzZKe_RBXCYy6iiIlH5HLZEqMLqUPD6BB0RckpGy0Smte8C0RyiLzW5w6XM2xGy8Kd2HMLbiO11-rO8AvSSfUxEb-kIm9Bp7hOePCpG1x0y8NoQjy1TzDaZhl_seD8Goc-xzaE7xlr26m4piUVPUX3JwTqvXjbpTfuSuZs8gL9C-C9DgwHd_tSwVqT0J2baY39W_fH8BKqKn2GScfFsqHy2qzAjw1pQddrMkvObcI1lcT_BuuzXEo_a_AJCatNMqk64wb_Cq7WPwCE1ISET3IYj7EtVy4U4qwkPn8N9UeugTLBlf7Q1XBVFnx1MIxc4XQ6_Tj3g7qIMmQeDcnXH9sCEFoKXcjslg6LOVpsl_amkTHo6Om3T_54HwklXMar-xwlXk4RseRsc1K9jh_EQgRLUuwglNZyjv_isM3MIWs-V9xQt01I7phkOs2fvEYRB24hk_aZ1PB7vaUGViZyXphsNizx1BeEdOg5hd3ifIwAmgLHwdCso-SuSIYTFEsqRff-YdGnQBya8vqc7aPcRnOlE8NsRQGo35IZvkZ7aRRF0yu-3gve8vwxKD1L-CbMkg9bB8wVa_udlTw1PaIUGaQFdeYRzNQ18TDyXXI1uBZ2F7Q_pI_zGLqL9pYmmPxYcAn-_CAjRud_1q55V3Cox5lMPtaPTcA3xlq0Jz_9aw_sFFxR7mtG_K7Z4rspuSGxKX3J121QJ50T5CwBKU_GROEcVhzS2X4zFXT4qwoNCh4rud69k11eok3h4CYgsey9xwFxOsCDRriJeTOKuJ7c3qalQEh0ejC326o_hqmZCV9JkwvglRH_ViWp_N2n9qCOLAmQUsoAlWZY6ErNwH2S2dSFRXV2kw0uB5sbEYlW0JE4kXm4jsXhdArEi-DKfqHFEyD2k_7-QtUu3da7oBjrKQypGMtlBJXRlKJPNcJKOMbl0_6OM1wz3Oj72qEnp-a9qwRrK9cQrARJKRMurVntgQViCfSdZVWypOucYusAvjVxNP2i-epjmhlbyZkH7afk-fvPM-4BzMQ4Db48vK_mxr5UGSZTrW9y7mlb0x8JSSvy8UGUGc9__0z_0-I1hGEGAWin8yEx26c2Gf83pvYY8w0Q9fgr1F3-MuDW1WLH8PgEgoTQlKcOW5ulm47wx2_OlDWmEhH4pQt8w6zYcTpiciqgvdbETV-qmDxFhUU2tWIoR_PkbR3RHIt2q6Y6d3SuNQ-IJgjFBS6XKjvt-ir9WP9EprCGNIMtZHWuDs7Ajw8e7Fz-1UCe94_UlAGz-Jn7ZiwRcrEUHIxqnwDKBfWXswrsjjqjxLPpWmLT1FLY7J5jHy73cmQ-pYB-dz2HiKCi8HxbO62mxJRvR0YM4lCppAORanojYf4fp0itwOBD5yO1MGZbpuAMcLnsUy7MOc0At28NyiKxlGd80psNjiR64at1HXkvtYOjfVfvFNoliF22nsxmxFaeD3KURHHMi0YSrolWDCOFor3u27Xm3UqTXB5uFpv-XFmfx1A1cFFNz6DZZm1HdY-rB4Hx-GnvC_XepC0TNAHPxYiuaZhOSCJFc3EaVQud5dRE7NvCzaWJEvKhxJPmF43Oj4YEXm_hxk3vSNlczDFqaLSNCIlog0PmMyGq1gw2Bd6gtp05SQEYyrgcoa65FCSKWPPTSQ4JQUJiLkd2ZSYGQbdJ5XMp2MDxM6KZXC5pyWZzrbj374lX_mKoz386hyLwLZzxNzSrjqvrwGblfBNb9YCwmRKh5fnjb4y2d6dVurAvBx1MOTUx9mZYU385mgqyEihL6YiTvGN_rSWl31-AAh1nenKsdE2hNHjCJ8C1qMK4Um_acll3CwgTX4_sFR2kQYHbsWTxryOqcvMoI-WLOw5u_SWqkntXcQUKX6ylCGlwoUEloBIYzKZkLpxPy_Ahf7_Jg7R3oggSVxS-oqxsD3PJChPoQpatcl1Xge1C2HAuELC7uaegUBYvKie9_B7m4tKT6CkmKn0_bVFY6gE0qol9fpiJrXkvZqfO4gWwTdkv8wCSFeFxlWR34IcTjdpvVKYhwlTAAEZ9nluJo4ac452OGHiFuMue3ShtG-91y2MlaawSLXiKFUn6Db0mh6TWSXE19x6wzwUsXeWRLJ2mqt8ddkyCy4l_cDcCYiAFI97BmQfWWdH2-PnIv6q6BpxXf7mgp5DQatXc9RY82FxB81Sc8C-KSHYCv-djAD0jRW-X2InhmPehntCe_k5HxLg6yi2Mh0mxgc6TSvu5C9sltfEV0Dl6FZyw6K29wGL71R1IVuWqudB_nU00NwxNjvv2tzg7qUENhIRfSzJybLKn3BqTTQcf3AOk76MPcSY93xvln9XVFXCeYxNtZiuOcnZlGTEKjF8RRBgphlt7pweJMpAmHRiej1QNPQ-5DzXO1QLktVbD88NUnduZ7_wn0z-1zgTCR5yRK6WikSuYX5jEU4ucv2a-A4bZpQQ3msaneyKzNxCfHd9TT3qcPz7gQfQj4biU1OGaGlNZU_pY8EZwVaVDFcV9mrsRl_9yLhC4Sbih-U_5ExZ00koAL4QULPviENrcRGbeajIsieUE5bX8IlDzh4-bIsCG2Q9aK7LijR_hAXhaNMybUZQGZ0V3ErfmEqx79KuD6YYx4x4VLFa7kaDBZs8xzLaZH0I9Y3o2myo4PYssBlNuirXFz_F8ZFqYsOAIwcFXJwPqszG1db4gCEdgAx0ArNicGiSOrN_iqNSVfgCQkJICs8gZPi06gQbRH_DvgtVveyxp1XYHxkjrVk3qfjSIbe1yz8mjZKyn6D9NtSShZIGdVBBysSzuV5cQtto\">\n",
      "        </form>\n",
      "    </div>\n",
      "</div>\n",
      "<script>\n",
      "    (function(){\n",
      "        window._cf_chl_opt={\n",
      "            cvId: '2',\n",
      "            cZone: 'm.nomor.net',\n",
      "            cType: 'managed',\n",
      "            cNounce: '81978',\n",
      "            cRay: '7ebafa4ddb20df7c',\n",
      "            cHash: '444ea527a9a0a32',\n",
      "            cUPMDTk: \"\\/_kodepos.php?_i=desa-kodepos&daerah=&jobs=&perhal=1000&urut=1&asc=000101&sby=000000&no1=2&no2=4000&kk=0&__cf_chl_tk=_7WceR2tPBIg.eJpt.Uy5tXJmsPTmv3EDlnwFentzGo-1690189278-0-gaNycGzNC1A\",\n",
      "            cFPWv: 'b',\n",
      "            cTTimeMs: '1000',\n",
      "            cMTimeMs: '0',\n",
      "            cTplV: 5,\n",
      "            cTplB: 'cf',\n",
      "            cK: \"\",\n",
      "            cRq: {\n",
      "                ru: 'aHR0cHM6Ly9tLm5vbW9yLm5ldC9fa29kZXBvcy5waHA/X2k9ZGVzYS1rb2RlcG9zJmRhZXJhaD0mam9icz0mcGVyaGFsPTEwMDAmdXJ1dD0xJmFzYz0wMDAxMDEmc2J5PTAwMDAwMCZubzE9MiZubzI9NDAwMCZraz0w',\n",
      "                ra: 'cHl0aG9uLXJlcXVlc3RzLzIuMzEuMA==',\n",
      "                rm: 'R0VU',\n",
      "                d: '1aSdfps0N+zHzwfsE0JdH4Cq+wqk96syXDLyVu4G0+q9+2rVMniK/weVsHgeIM4JNkf1+feN2GrrQ8a41HDqGRp39aPhlgKdplBxUzZZ5MvCAe4tTJ1L4Zwur6abgqlkwIs4n98cP5lP8RezPDn0b7cusPzKbJi1iPHOZsi/Ck0TKvMnBVP4i+NngVC938FT34Cqlz14d8Ng3v6O4VNSbG2pQEi//b0A08Rzd4HJaToyoPVSLjxmQgGrjTWlp8VxI5uRZ6GuFJasKN0lle4nXO/lN2mmEqZGhOOP76B1Ozh8mLddN9HxAuWrdigVK11qY1Tm0tSlA35nMt6OOi7lP/7J0+qM3E7eiw/kWtdNH2flDTinjwSiw49sEO4rWc9ghfzcXQiHDcaqW5Z9goWuw+F5H6XsnIhPqMY546Pod6X2I+kFX//B0PVTMl0pqbEXAW7AYwdTOR2ppq82GHWiMC/QiUv0M3XZ1/ke+cG1g1MLn0O9IzsL3wUjXJ+67J1TQ6dNV75JiawubZeebYt660FjMX9qe3UH5W/J+wX7hGQUtxpOc6FueE57EBc5JvuK',\n",
      "                t: 'MTY5MDE4OTI3OC4zOTAwMDA=',\n",
      "                cT: Math.floor(Date.now() / 1000),\n",
      "                m: 'lL70trfq3Y6t+WrWpQOeutSQY/lLmFYtq2xgRL1NABc=',\n",
      "                i1: 'tmDy2TpSzht2oQ5f7HnDqg==',\n",
      "                i2: 'JupfjY8mlJVLDVwMC/WFSA==',\n",
      "                zh: 'pINa9yQQmOQyUKlbdqQZnV/GsXyociVHkOMQm0iNOYM=',\n",
      "                uh: 'YE9XOpG5TeHmhA1zfs5mxC8CrRZzq2a/+r+OU7dliYQ=',\n",
      "                hh: 'xtSTyHqadJy7DUR5f5goczme35xkQYA+2cpba4vgH8w=',\n",
      "            }\n",
      "        };\n",
      "        var cpo = document.createElement('script');\n",
      "        cpo.src = '/cdn-cgi/challenge-platform/h/b/orchestrate/managed/v1?ray=7ebafa4ddb20df7c';\n",
      "        window._cf_chl_opt.cOgUHash = location.hash === '' && location.href.indexOf('#') !== -1 ? '#' : location.hash;\n",
      "        window._cf_chl_opt.cOgUQuery = location.search === '' && location.href.slice(0, location.href.length - window._cf_chl_opt.cOgUHash.length).indexOf('?') !== -1 ? '?' : location.search;\n",
      "        if (window.history && window.history.replaceState) {\n",
      "            var ogU = location.pathname + window._cf_chl_opt.cOgUQuery + window._cf_chl_opt.cOgUHash;\n",
      "            history.replaceState(null, null, \"\\/_kodepos.php?_i=desa-kodepos&daerah=&jobs=&perhal=1000&urut=1&asc=000101&sby=000000&no1=2&no2=4000&kk=0&__cf_chl_rt_tk=_7WceR2tPBIg.eJpt.Uy5tXJmsPTmv3EDlnwFentzGo-1690189278-0-gaNycGzNC1A\" + window._cf_chl_opt.cOgUHash);\n",
      "            cpo.onload = function() {\n",
      "                history.replaceState(null, null, ogU);\n",
      "            };\n",
      "        }\n",
      "        document.getElementsByTagName('head')[0].appendChild(cpo);\n",
      "    }());\n",
      "</script>\n",
      "\n",
      "\n",
      "</body>\n",
      "</html>\n",
      "\n"
     ]
    }
   ],
   "source": [
    "from bs4 import BeautifulSoup\n",
    "from selenium import webdriver\n",
    "import requests\n",
    "\n",
    "def get_kelurahan_desa():\n",
    "    url = \"https://m.nomor.net/_kodepos.php?_i=desa-kodepos&daerah=&jobs=&perhal=1000&urut=1&asc=000101&sby=000000&no1=2&no2=4000&kk=0\"\n",
    "    req = requests.Session()\n",
    "    html = req.get(url)\n",
    "    print(html.text)\n",
    "\n",
    "get_kelurahan_desa()"
   ]
  }
 ],
 "metadata": {
  "kernelspec": {
   "display_name": "Python 3.8.0 ('new')",
   "language": "python",
   "name": "python3"
  },
  "language_info": {
   "codemirror_mode": {
    "name": "ipython",
    "version": 3
   },
   "file_extension": ".py",
   "mimetype": "text/x-python",
   "name": "python",
   "nbconvert_exporter": "python",
   "pygments_lexer": "ipython3",
   "version": "3.8.0"
  },
  "orig_nbformat": 4,
  "vscode": {
   "interpreter": {
    "hash": "ab0b85331dcca70edf59d189bb0688da4447ba1f1a6fa1bd1c16f5b2ef1c6320"
   }
  }
 },
 "nbformat": 4,
 "nbformat_minor": 2
}
