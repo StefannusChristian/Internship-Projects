{
 "cells": [
  {
   "cell_type": "code",
   "execution_count": 6,
   "metadata": {},
   "outputs": [],
   "source": [
    "import numpy as np\n",
    "import cv2\n",
    "from PIL import Image"
   ]
  },
  {
   "cell_type": "code",
   "execution_count": 10,
   "metadata": {},
   "outputs": [],
   "source": [
    "img = cv2.imread(\"./database/ktp/ktp.jpg\")"
   ]
  },
  {
   "cell_type": "code",
   "execution_count": 11,
   "metadata": {},
   "outputs": [],
   "source": [
    "norm_img = np.zeros((img.shape[0], img.shape[1]))\n",
    "img = cv2.normalize(img, norm_img, 0, 255, cv2.NORM_MINMAX)"
   ]
  },
  {
   "cell_type": "code",
   "execution_count": 12,
   "metadata": {},
   "outputs": [],
   "source": [
    "def deskew(image):\n",
    "    co_ords = np.column_stack(np.where(image > 0))\n",
    "\n",
    "    angle = cv2.minAreaRect(co_ords)[-1]\n",
    "\n",
    "    if angle < -45:\n",
    "        angle = -(90 + angle)\n",
    "    else:\n",
    "        angle = -angle\n",
    "\n",
    "    (h, w) = image.shape[:2]\n",
    "    center = (w // 2, h // 2)\n",
    "    M = cv2.getRotationMatrix2D(center, angle, 1.0)\n",
    "    rotated = cv2.warpAffine(image, M, (w, h), flags=cv2.INTER_CUBIC, borderMode=cv2.BORDER_REPLICATE)\n",
    "\n",
    "    return rotated"
   ]
  },
  {
   "cell_type": "code",
   "execution_count": 13,
   "metadata": {},
   "outputs": [],
   "source": [
    "def set_image_dpi(file_path):\n",
    "    im = Image.open(file_path)\n",
    "    length_x, width_y = im.size\n",
    "    factor = min(1, float(1024.0 / length_x))\n",
    "    size = int(factor * length_x), int(factor * width_y)\n",
    "    im_resized = im.resize(size, Image.ANTIALIAS)\n",
    "    temp_file = temp_file.NamedTemporaryFile(delete=False, suffix='.png')\n",
    "    temp_filename = temp_file.name\n",
    "    im_resized.save(temp_filename, dpi=(300, 300))\n",
    "    return temp_filename"
   ]
  },
  {
   "cell_type": "code",
   "execution_count": 14,
   "metadata": {},
   "outputs": [],
   "source": [
    "def remove_noise(image): return cv2.fastNlMeansDenoisingColored(image, None, 10, 10, 7, 15)"
   ]
  },
  {
   "cell_type": "code",
   "execution_count": 15,
   "metadata": {},
   "outputs": [],
   "source": [
    "def get_grayscale(image): return cv2.cvtColor(image, cv2.COLOR_BGR2GRAY)"
   ]
  },
  {
   "cell_type": "code",
   "execution_count": 16,
   "metadata": {},
   "outputs": [],
   "source": [
    "def thresholding(image): return cv2.threshold(image, 0, 255, cv2.THRESH_BINARY + cv2.THRESH_OTSU)[1]"
   ]
  },
  {
   "cell_type": "code",
   "execution_count": 17,
   "metadata": {},
   "outputs": [
    {
     "ename": "error",
     "evalue": "OpenCV(4.7.0) D:\\a\\opencv-python\\opencv-python\\opencv\\modules\\imgproc\\src\\convhull.cpp:143: error: (-215:Assertion failed) total >= 0 && (depth == CV_32F || depth == CV_32S) in function 'cv::convexHull'\n",
     "output_type": "error",
     "traceback": [
      "\u001b[1;31m---------------------------------------------------------------------------\u001b[0m",
      "\u001b[1;31merror\u001b[0m                                     Traceback (most recent call last)",
      "Cell \u001b[1;32mIn[17], line 2\u001b[0m\n\u001b[0;32m      1\u001b[0m \u001b[39m# Deskew the image\u001b[39;00m\n\u001b[1;32m----> 2\u001b[0m img_deskewed \u001b[39m=\u001b[39m deskew(img)\n\u001b[0;32m      4\u001b[0m \u001b[39m# Set image DPI\u001b[39;00m\n\u001b[0;32m      5\u001b[0m dpi_corrected_image \u001b[39m=\u001b[39m set_image_dpi(img_deskewed)\n",
      "Cell \u001b[1;32mIn[12], line 4\u001b[0m, in \u001b[0;36mdeskew\u001b[1;34m(image)\u001b[0m\n\u001b[0;32m      1\u001b[0m \u001b[39mdef\u001b[39;00m \u001b[39mdeskew\u001b[39m(image):\n\u001b[0;32m      2\u001b[0m     co_ords \u001b[39m=\u001b[39m np\u001b[39m.\u001b[39mcolumn_stack(np\u001b[39m.\u001b[39mwhere(image \u001b[39m>\u001b[39m \u001b[39m0\u001b[39m))\n\u001b[1;32m----> 4\u001b[0m     angle \u001b[39m=\u001b[39m cv2\u001b[39m.\u001b[39;49mminAreaRect(co_ords)[\u001b[39m-\u001b[39m\u001b[39m1\u001b[39m]\n\u001b[0;32m      6\u001b[0m     \u001b[39mif\u001b[39;00m angle \u001b[39m<\u001b[39m \u001b[39m-\u001b[39m\u001b[39m45\u001b[39m:\n\u001b[0;32m      7\u001b[0m         angle \u001b[39m=\u001b[39m \u001b[39m-\u001b[39m(\u001b[39m90\u001b[39m \u001b[39m+\u001b[39m angle)\n",
      "\u001b[1;31merror\u001b[0m: OpenCV(4.7.0) D:\\a\\opencv-python\\opencv-python\\opencv\\modules\\imgproc\\src\\convhull.cpp:143: error: (-215:Assertion failed) total >= 0 && (depth == CV_32F || depth == CV_32S) in function 'cv::convexHull'\n"
     ]
    }
   ],
   "source": [
    "# Deskew the image\n",
    "img_deskewed = deskew(img)\n",
    "\n",
    "# Set image DPI\n",
    "dpi_corrected_image = set_image_dpi(img_deskewed)\n",
    "\n",
    "# Remove noise\n",
    "img_denoised = remove_noise(dpi_corrected_image)\n",
    "\n",
    "# Convert to grayscale\n",
    "img_grayscale = get_grayscale(img_denoised)\n",
    "\n",
    "# Thresholding\n",
    "img_thresholded = thresholding(img_grayscale)\n",
    "img_thresholded"
   ]
  }
 ],
 "metadata": {
  "kernelspec": {
   "display_name": "Python 3.9.16 ('datalabs')",
   "language": "python",
   "name": "python3"
  },
  "language_info": {
   "codemirror_mode": {
    "name": "ipython",
    "version": 3
   },
   "file_extension": ".py",
   "mimetype": "text/x-python",
   "name": "python",
   "nbconvert_exporter": "python",
   "pygments_lexer": "ipython3",
   "version": "3.9.16"
  },
  "orig_nbformat": 4,
  "vscode": {
   "interpreter": {
    "hash": "1e70422bfaf5e64b7fb80709a8c688b526de54e4ffcc301586879c773c95183c"
   }
  }
 },
 "nbformat": 4,
 "nbformat_minor": 2
}
