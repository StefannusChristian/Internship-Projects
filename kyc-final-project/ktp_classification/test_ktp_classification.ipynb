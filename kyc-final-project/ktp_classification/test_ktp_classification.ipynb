{
 "cells": [
  {
   "cell_type": "code",
   "execution_count": 28,
   "metadata": {},
   "outputs": [
    {
     "name": "stdout",
     "output_type": "stream",
     "text": [
      "1/1 [==============================] - 0s 51ms/step\n",
      "0.0164927463629283\n",
      "Predicted Class (Binary): 0\n"
     ]
    }
   ],
   "source": [
    "from keras.models import load_model\n",
    "import cv2\n",
    "import numpy as np\n",
    "\n",
    "loaded_model = load_model(\"../ktp classifier.h5\")\n",
    "\n",
    "test_image_path = \"../ktp_classification/ktp_images/valid_ktp/ktp_benny.png\"\n",
    "test_image_path = \"../ktp_classification/ktp_images/invalid_ktp/invalid_1.png\"\n",
    "test_image_path = \"../../../IMG_1359.JPG\"\n",
    "test_image_path = \"../ktp_classification/ktp_images/valid_ktp/ktp_stefannus.jpg\"\n",
    "test_image_path = \"../ktp_classification/ktp_images/invalid_ktp/invalid_21.png\"\n",
    "\n",
    "def preprocess_image(image_path):\n",
    "    image = cv2.imread(image_path)\n",
    "    image = cv2.resize(image, (32, 32))\n",
    "    image = image / 255.0\n",
    "    image = np.expand_dims(image, axis=0)\n",
    "    return image\n",
    "\n",
    "image_to_test = preprocess_image(test_image_path)\n",
    "\n",
    "predicted_probabilities = loaded_model.predict(image_to_test)\n",
    "predicted_class = np.argmax(predicted_probabilities)\n",
    "\n",
    "threshold = 0.5\n",
    "predicted_class = 1 if predicted_probabilities[0, 0] > threshold else 0\n",
    "print((predicted_probabilities[0][0])*100)\n",
    "print(\"Predicted Class (Binary):\", predicted_class)"
   ]
  }
 ],
 "metadata": {
  "kernelspec": {
   "display_name": "Python 3.8.16 ('kyc-final-project')",
   "language": "python",
   "name": "python3"
  },
  "language_info": {
   "codemirror_mode": {
    "name": "ipython",
    "version": 3
   },
   "file_extension": ".py",
   "mimetype": "text/x-python",
   "name": "python",
   "nbconvert_exporter": "python",
   "pygments_lexer": "ipython3",
   "version": "3.8.16"
  },
  "orig_nbformat": 4,
  "vscode": {
   "interpreter": {
    "hash": "f6ea6c8a7f8cc7fb03f8cdcc92795b493c0fbb0ed32f37d9f0510eb192ed36a5"
   }
  }
 },
 "nbformat": 4,
 "nbformat_minor": 2
}
