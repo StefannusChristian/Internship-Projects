{
 "cells": [
  {
   "cell_type": "code",
   "execution_count": 2,
   "metadata": {},
   "outputs": [],
   "source": [
    "import numpy as np\n",
    "from tensorflow.keras import models, layers\n",
    "from tensorflow.keras.callbacks import EarlyStopping\n",
    "import cv2\n",
    "import os\n",
    "\n",
    "valid_image_base_path = \"./ktp_images/valid_ktp/\"\n",
    "invalid_image_base_path = \"./ktp_images/invalid_ktp/\"\n",
    "valid_image_paths = os.listdir(valid_image_base_path)\n",
    "invalid_image_paths = os.listdir(invalid_image_base_path)\n",
    "\n",
    "def preprocess_image(image_path, base_path, target_size=(32, 32)):\n",
    "    image = cv2.imread(base_path+image_path)\n",
    "\n",
    "    # Resize the image to the target size (e.g., 32x32)\n",
    "    image = cv2.resize(image, target_size)\n",
    "\n",
    "    # Normalize the pixel values to a range of [0, 1]\n",
    "    image = image.astype('float32') / 255.0\n",
    "\n",
    "    return image\n",
    "\n",
    "# Assuming you have 50 valid KTP images and 50 invalid KTP images.\n",
    "# Load the images and preprocess them (e.g., resize to 32x32, normalize pixel values, etc.)\n",
    "# Load and preprocess the valid KTP images\n",
    "valid_images = np.array([preprocess_image(image_path,valid_image_base_path) for image_path in valid_image_paths])\n",
    "\n",
    "# Load and preprocess the invalid KTP images\n",
    "invalid_images = np.array([preprocess_image(image_path,invalid_image_base_path) for image_path in invalid_image_paths])\n",
    "\n",
    "# Let's say your valid KTP images are stored in valid_images and invalid KTP images in invalid_images.\n",
    "# Combine the images into a single array and create corresponding labels (1 for valid KTP, 0 for invalid KTP).\n",
    "images = np.concatenate((valid_images, invalid_images))\n",
    "labels = np.concatenate((np.ones(len(valid_images)), np.zeros(len(invalid_images))))\n",
    "\n",
    "# Shuffle the data to avoid any order bias during training\n",
    "shuffle_indices = np.random.permutation(len(images))\n",
    "images = images[shuffle_indices]\n",
    "labels = labels[shuffle_indices]\n",
    "\n",
    "# Split the dataset into training and testing sets (80% for training, 20% for testing)\n",
    "split_idx = int(0.8 * len(images))\n",
    "training_images, testing_images = images[:split_idx], images[split_idx:]\n",
    "training_labels, testing_labels = labels[:split_idx], labels[split_idx:]"
   ]
  },
  {
   "cell_type": "code",
   "execution_count": 3,
   "metadata": {},
   "outputs": [
    {
     "name": "stdout",
     "output_type": "stream",
     "text": [
      "Epoch 1/50\n",
      "3/3 [==============================] - 1s 109ms/step - loss: 0.7084 - accuracy: 0.5625 - val_loss: 0.6634 - val_accuracy: 1.0000\n",
      "Epoch 2/50\n",
      "3/3 [==============================] - 0s 38ms/step - loss: 0.6601 - accuracy: 0.6875 - val_loss: 0.6237 - val_accuracy: 1.0000\n",
      "Epoch 3/50\n",
      "3/3 [==============================] - 0s 22ms/step - loss: 0.6128 - accuracy: 0.9250 - val_loss: 0.5502 - val_accuracy: 1.0000\n",
      "Epoch 4/50\n",
      "3/3 [==============================] - 0s 19ms/step - loss: 0.5548 - accuracy: 0.8750 - val_loss: 0.4590 - val_accuracy: 1.0000\n",
      "Epoch 5/50\n",
      "3/3 [==============================] - 0s 26ms/step - loss: 0.5080 - accuracy: 0.7750 - val_loss: 0.3862 - val_accuracy: 1.0000\n",
      "Epoch 6/50\n",
      "3/3 [==============================] - 0s 28ms/step - loss: 0.4532 - accuracy: 0.7875 - val_loss: 0.3335 - val_accuracy: 1.0000\n",
      "Epoch 7/50\n",
      "3/3 [==============================] - 0s 24ms/step - loss: 0.3922 - accuracy: 0.9000 - val_loss: 0.2917 - val_accuracy: 1.0000\n",
      "Epoch 8/50\n",
      "3/3 [==============================] - 0s 41ms/step - loss: 0.3212 - accuracy: 0.9000 - val_loss: 0.3632 - val_accuracy: 0.8500\n",
      "Epoch 9/50\n",
      "3/3 [==============================] - 0s 24ms/step - loss: 0.2799 - accuracy: 0.9000 - val_loss: 0.1828 - val_accuracy: 1.0000\n",
      "Epoch 10/50\n",
      "3/3 [==============================] - 0s 20ms/step - loss: 0.3100 - accuracy: 0.8875 - val_loss: 0.1179 - val_accuracy: 1.0000\n",
      "Epoch 11/50\n",
      "3/3 [==============================] - 0s 19ms/step - loss: 0.2085 - accuracy: 0.9250 - val_loss: 0.1875 - val_accuracy: 0.9500\n",
      "Epoch 12/50\n",
      "3/3 [==============================] - 0s 21ms/step - loss: 0.1786 - accuracy: 0.9250 - val_loss: 0.0869 - val_accuracy: 1.0000\n",
      "Epoch 13/50\n",
      "3/3 [==============================] - 0s 19ms/step - loss: 0.1777 - accuracy: 0.9375 - val_loss: 0.0732 - val_accuracy: 1.0000\n",
      "Epoch 14/50\n",
      "3/3 [==============================] - 0s 30ms/step - loss: 0.1360 - accuracy: 0.9500 - val_loss: 0.0844 - val_accuracy: 1.0000\n",
      "Epoch 15/50\n",
      "3/3 [==============================] - 0s 20ms/step - loss: 0.0897 - accuracy: 0.9750 - val_loss: 0.0306 - val_accuracy: 1.0000\n",
      "Epoch 16/50\n",
      "3/3 [==============================] - 0s 29ms/step - loss: 0.0940 - accuracy: 0.9750 - val_loss: 0.0302 - val_accuracy: 1.0000\n",
      "Epoch 17/50\n",
      "3/3 [==============================] - 0s 19ms/step - loss: 0.0561 - accuracy: 0.9875 - val_loss: 0.0706 - val_accuracy: 1.0000\n",
      "Epoch 18/50\n",
      "3/3 [==============================] - 0s 28ms/step - loss: 0.0594 - accuracy: 1.0000 - val_loss: 0.0225 - val_accuracy: 1.0000\n",
      "Epoch 19/50\n",
      "3/3 [==============================] - 0s 22ms/step - loss: 0.0398 - accuracy: 0.9875 - val_loss: 0.0121 - val_accuracy: 1.0000\n",
      "Epoch 20/50\n",
      "3/3 [==============================] - 0s 33ms/step - loss: 0.0387 - accuracy: 0.9875 - val_loss: 0.0291 - val_accuracy: 1.0000\n",
      "Epoch 21/50\n",
      "3/3 [==============================] - 0s 19ms/step - loss: 0.0242 - accuracy: 1.0000 - val_loss: 0.0285 - val_accuracy: 1.0000\n",
      "Epoch 22/50\n",
      "3/3 [==============================] - 0s 52ms/step - loss: 0.0193 - accuracy: 1.0000 - val_loss: 0.0090 - val_accuracy: 1.0000\n",
      "Epoch 23/50\n",
      "3/3 [==============================] - 0s 24ms/step - loss: 0.0161 - accuracy: 1.0000 - val_loss: 0.0097 - val_accuracy: 1.0000\n",
      "Epoch 24/50\n",
      "3/3 [==============================] - 0s 17ms/step - loss: 0.0111 - accuracy: 1.0000 - val_loss: 0.0192 - val_accuracy: 1.0000\n",
      "Epoch 25/50\n",
      "3/3 [==============================] - 0s 20ms/step - loss: 0.0094 - accuracy: 1.0000 - val_loss: 0.0092 - val_accuracy: 1.0000\n"
     ]
    },
    {
     "data": {
      "text/plain": [
       "<keras.callbacks.History at 0x2c8fd3a2f70>"
      ]
     },
     "execution_count": 3,
     "metadata": {},
     "output_type": "execute_result"
    }
   ],
   "source": [
    "model = models.Sequential()\n",
    "model.add(layers.Conv2D(32, (3, 3), activation='relu', input_shape=(32, 32, 3)))\n",
    "model.add(layers.MaxPooling2D((2, 2)))\n",
    "model.add(layers.Conv2D(64, (3, 3), activation='relu'))\n",
    "model.add(layers.MaxPooling2D((2, 2)))\n",
    "model.add(layers.Conv2D(64, (3, 3), activation='relu'))\n",
    "model.add(layers.Flatten())\n",
    "model.add(layers.Dense(64, activation='relu'))\n",
    "model.add(layers.Dense(1, activation='sigmoid'))\n",
    "\n",
    "model.compile(optimizer='adam', loss='binary_crossentropy', metrics=['accuracy'])\n",
    "\n",
    "early_stopping = EarlyStopping(monitor='val_loss', patience=3, restore_best_weights=True)\n",
    "\n",
    "model.fit(training_images, training_labels, epochs=50, batch_size=32, validation_data=(testing_images, testing_labels), callbacks=[early_stopping])"
   ]
  },
  {
   "cell_type": "code",
   "execution_count": 4,
   "metadata": {},
   "outputs": [
    {
     "name": "stdout",
     "output_type": "stream",
     "text": [
      "1/1 [==============================] - 0s 19ms/step - loss: 0.0090 - accuracy: 1.0000\n",
      "Loss: 0.008971523493528366\n",
      "Accuracy: 1.0\n"
     ]
    }
   ],
   "source": [
    "loss, accuracy = model.evaluate(testing_images, testing_labels)\n",
    "print(f'Loss: {loss}')\n",
    "print(f'Accuracy: {accuracy}')"
   ]
  },
  {
   "cell_type": "code",
   "execution_count": 8,
   "metadata": {},
   "outputs": [
    {
     "name": "stderr",
     "output_type": "stream",
     "text": [
      "WARNING:absl:Found untraced functions such as _jit_compiled_convolution_op, _jit_compiled_convolution_op, _jit_compiled_convolution_op while saving (showing 3 of 3). These functions will not be directly callable after loading.\n"
     ]
    },
    {
     "name": "stdout",
     "output_type": "stream",
     "text": [
      "INFO:tensorflow:Assets written to: ../ktp classifier.h5/assets\n"
     ]
    },
    {
     "name": "stderr",
     "output_type": "stream",
     "text": [
      "INFO:tensorflow:Assets written to: ../ktp classifier.h5/assets\n"
     ]
    }
   ],
   "source": [
    "model.save('../ktp classifier.h5/')"
   ]
  }
 ],
 "metadata": {
  "kernelspec": {
   "display_name": "Python 3.8.16 ('kyc-final-project')",
   "language": "python",
   "name": "python3"
  },
  "language_info": {
   "codemirror_mode": {
    "name": "ipython",
    "version": 3
   },
   "file_extension": ".py",
   "mimetype": "text/x-python",
   "name": "python",
   "nbconvert_exporter": "python",
   "pygments_lexer": "ipython3",
   "version": "3.8.16"
  },
  "orig_nbformat": 4,
  "vscode": {
   "interpreter": {
    "hash": "f6ea6c8a7f8cc7fb03f8cdcc92795b493c0fbb0ed32f37d9f0510eb192ed36a5"
   }
  }
 },
 "nbformat": 4,
 "nbformat_minor": 2
}
