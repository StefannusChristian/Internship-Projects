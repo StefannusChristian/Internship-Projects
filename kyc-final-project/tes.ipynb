{
 "cells": [
  {
   "cell_type": "code",
   "execution_count": 1,
   "metadata": {},
   "outputs": [
    {
     "data": {
      "text/plain": [
       "-1"
      ]
     },
     "execution_count": 1,
     "metadata": {},
     "output_type": "execute_result"
    }
   ],
   "source": [
    "name = \"ADINATA\"\n",
    "name.find(\".\")"
   ]
  },
  {
   "cell_type": "code",
   "execution_count": 13,
   "metadata": {},
   "outputs": [
    {
     "name": "stdout",
     "output_type": "stream",
     "text": [
      "KEDIRI\n",
      "26-02-1966\n"
     ]
    }
   ],
   "source": [
    "word = ['TempauTgi', 'Lahir', ':', 'KEDIRI', '26', '02', '1966']\n",
    "tempat_lahir = \"02\"\n",
    "if not tempat_lahir.isalpha():\n",
    "    for i in range (len(word)-1,-1,-1):\n",
    "        if word[i].isalpha():\n",
    "            tempat_lahir = word[i]\n",
    "            tanggal_lahir = \"-\".join(word[i+1:])\n",
    "            break\n",
    "print(tempat_lahir)\n",
    "print(tanggal_lahir)"
   ]
  },
  {
   "cell_type": "code",
   "execution_count": 15,
   "metadata": {},
   "outputs": [
    {
     "data": {
      "text/plain": [
       "0.8333333333333334"
      ]
     },
     "execution_count": 15,
     "metadata": {},
     "output_type": "execute_result"
    }
   ],
   "source": [
    "from jaro import jaro_winkler_metric\n",
    "s1 = '3508101511840007'\n",
    "s2 = '35081015'\n",
    "jaro_winkler_metric(s1,s2)"
   ]
  },
  {
   "cell_type": "code",
   "execution_count": 19,
   "metadata": {},
   "outputs": [
    {
     "name": "stdout",
     "output_type": "stream",
     "text": [
      "<re.Match object; span=(0, 10), match='15-11 1984'>\n"
     ]
    }
   ],
   "source": [
    "import re\n",
    "date = r'(\\d{2})[/-]?(\\d{2})[/-]?\\s?(\\d{4})'\n",
    "date_to_validate = \"15-11 1984\"\n",
    "match = re.search(date, date_to_validate)\n",
    "print(match)"
   ]
  }
 ],
 "metadata": {
  "kernelspec": {
   "display_name": "Python 3.8.16 ('kyc-final-project')",
   "language": "python",
   "name": "python3"
  },
  "language_info": {
   "codemirror_mode": {
    "name": "ipython",
    "version": 3
   },
   "file_extension": ".py",
   "mimetype": "text/x-python",
   "name": "python",
   "nbconvert_exporter": "python",
   "pygments_lexer": "ipython3",
   "version": "3.8.16"
  },
  "orig_nbformat": 4,
  "vscode": {
   "interpreter": {
    "hash": "f6ea6c8a7f8cc7fb03f8cdcc92795b493c0fbb0ed32f37d9f0510eb192ed36a5"
   }
  }
 },
 "nbformat": 4,
 "nbformat_minor": 2
}
